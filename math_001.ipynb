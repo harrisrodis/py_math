{
 "cells": [
  {
   "cell_type": "markdown",
   "metadata": {},
   "source": [
    "# Solving Probabilities problems with Sympy"
   ]
  },
  {
   "cell_type": "markdown",
   "metadata": {},
   "source": [
    "To begin you have to initialize the Jupyter notebook by importing sympy and sympy.stats packages."
   ]
  },
  {
   "cell_type": "code",
   "execution_count": 16,
   "metadata": {},
   "outputs": [],
   "source": [
    "import sympy as sp\n",
    "import sympy.stats as stat\n",
    "%matplotlib inline\n",
    "sp.init_printing()"
   ]
  },
  {
   "cell_type": "markdown",
   "metadata": {},
   "source": [
    "Declare the symbols you will use and the pdf of your random variable."
   ]
  },
  {
   "cell_type": "code",
   "execution_count": 17,
   "metadata": {},
   "outputs": [
    {
     "output_type": "execute_result",
     "data": {
      "text/plain": "⎧x + 1  for x ≥ -1 ∧ x < 0\n⎪                         \n⎨1 - x  for x ≥ 0 ∧ x ≤ 1 \n⎪                         \n⎩  0        otherwise     ",
      "text/latex": "$\\displaystyle \\begin{cases} x + 1 & \\text{for}\\: x \\geq -1 \\wedge x < 0 \\\\1 - x & \\text{for}\\: x \\geq 0 \\wedge x \\leq 1 \\\\0 & \\text{otherwise} \\end{cases}$"
     },
     "metadata": {},
     "execution_count": 17
    }
   ],
   "source": [
    "x, y = sp.symbols('x, y')\n",
    "f_X = sp.Piecewise( (x + 1, (-1 <= x) & (x < 0)), (1 - x, (0 <= x) & (x <= 1)), (0, True) )\n",
    "f_X"
   ]
  },
  {
   "cell_type": "markdown",
   "metadata": {},
   "source": [
    "Now define the random variable."
   ]
  },
  {
   "cell_type": "code",
   "execution_count": 18,
   "metadata": {},
   "outputs": [],
   "source": [
    "X = stat.ContinuousRV(x, f_X, set = sp.Interval(-1, 1))"
   ]
  },
  {
   "cell_type": "markdown",
   "metadata": {},
   "source": [
    "Calculate the expected value of X"
   ]
  },
  {
   "cell_type": "code",
   "execution_count": 26,
   "metadata": {
    "tags": []
   },
   "outputs": [
    {
     "output_type": "stream",
     "name": "stdout",
     "text": "0\n"
    }
   ],
   "source": [
    "E_X = stat.E(X)\n",
    "print(E_X)"
   ]
  },
  {
   "cell_type": "markdown",
   "metadata": {},
   "source": [
    "Calculate the cdf of your random variable."
   ]
  },
  {
   "cell_type": "code",
   "execution_count": 19,
   "metadata": {
    "tags": []
   },
   "outputs": [
    {
     "output_type": "stream",
     "name": "stdout",
     "text": "Piecewise((Piecewise((0, x < -1), (Min(0, x)**2 - Min(1, x)**2/2 + Min(1, x) + 1/2, True)), x >= -1), (0, True))\n"
    },
    {
     "output_type": "execute_result",
     "data": {
      "text/plain": "⎧⎧                   0                     for x < -1            \n⎪⎪                                                               \n⎪⎪                      2                                        \n⎪⎨         2   Min(1, x)                1              for x ≥ -1\n⎨⎪Min(0, x)  - ────────── + Min(1, x) + ─  otherwise             \n⎪⎪                 2                    2                        \n⎪⎩                                                               \n⎪                                                                \n⎩                         0                            otherwise ",
      "text/latex": "$\\displaystyle \\begin{cases} \\begin{cases} 0 & \\text{for}\\: x < -1 \\\\\\min\\left(0, x\\right)^{2} - \\frac{\\min\\left(1, x\\right)^{2}}{2} + \\min\\left(1, x\\right) + \\frac{1}{2} & \\text{otherwise} \\end{cases} & \\text{for}\\: x \\geq -1 \\\\0 & \\text{otherwise} \\end{cases}$"
     },
     "metadata": {},
     "execution_count": 19
    }
   ],
   "source": [
    "F_X = stat.cdf(X)(x)\n",
    "print(F_X)\n",
    "F_X"
   ]
  },
  {
   "cell_type": "markdown",
   "metadata": {},
   "source": [
    "Define a tranformation of your random variable."
   ]
  },
  {
   "cell_type": "code",
   "execution_count": 20,
   "metadata": {},
   "outputs": [],
   "source": [
    "Y = X*(X-1)"
   ]
  },
  {
   "cell_type": "markdown",
   "metadata": {},
   "source": [
    "And then calculate the cdf of the new (transformed) random variable."
   ]
  },
  {
   "cell_type": "code",
   "execution_count": 21,
   "metadata": {
    "tags": []
   },
   "outputs": [
    {
     "output_type": "stream",
     "name": "stdout",
     "text": "Piecewise((Piecewise((0, y < -1), (Integral(sqrt(4*_x + 1)/Abs(sqrt(4*_x + 1)), (_x, Min(0, y)))/2 - Integral(sqrt(4*_x + 1)/Abs(sqrt(4*_x + 1)), (_x, Min(2, y)))/2 + Integral((1/2 - sqrt(4*_x + 1)/2)/Abs(sqrt(4*_x + 1)) + (sqrt(4*_x + 1)/2 + 1/2)/Abs(sqrt(4*_x + 1)), (_x, Min(-1/4, y), Min(0, y))) - 3*Integral(1/Abs(sqrt(4*_x + 1)), (_x, Min(0, y)))/2 + 3*Integral(1/Abs(sqrt(4*_x + 1)), (_x, Min(2, y)))/2, True)), y >= -1), (0, True))\n"
    },
    {
     "output_type": "execute_result",
     "data": {
      "text/plain": "⎧⎧                                                                            \n⎪⎪                                                                            \n⎪⎪Min(0, y)                    Min(2, y)                                      \n⎪⎪    ⌠                            ⌠                                          \n⎪⎪    ⎮        _________           ⎮        _________                         \n⎪⎪    ⎮      ╲╱ 4⋅x + 1            ⎮      ╲╱ 4⋅x + 1         Min(0, y)        \n⎪⎪    ⎮     ───────────── dx       ⎮     ───────────── dx        ⌠            \n⎪⎪    ⎮     │  _________│          ⎮     │  _________│           ⎮       ⎛    \n⎪⎨    ⎮     │╲╱ 4⋅x + 1 │          ⎮     │╲╱ 4⋅x + 1 │           ⎮       ⎜1   \n⎨⎪    ⌡                            ⌡                             ⎮       ⎜─ - \n⎪⎪                                                               ⎮       ⎜2   \n⎪⎪────────────────────────── - ────────────────────────── +      ⎮       ⎜────\n⎪⎪            2                            2                     ⎮       ⎜ │  \n⎪⎪                                                               ⎮       ⎝ │╲╱\n⎪⎪                                                               ⌡            \n⎪⎪                                                          Min(-1/4, y)      \n⎪⎩                                                                            \n⎪                                                                             \n⎩                                                                             \n\n         0                                                                    \n                                                                              \n                                                                              \n                                      Min(0, y)                      Min(2, y)\n                                          ⌠                              ⌠    \n                                          ⎮           1                  ⎮    \n                                    3⋅    ⎮     ───────────── dx   3⋅    ⎮    \n  _________     _________    ⎞            ⎮     │  _________│            ⎮    \n╲╱ 4⋅x + 1    ╲╱ 4⋅x + 1    1⎟            ⎮     │╲╱ 4⋅x + 1 │            ⎮    \n───────────   ─────────── + ─⎟            ⌡                              ⌡    \n     2             2        2⎟                                                \n─────────── + ───────────────⎟ dx - ──────────────────────────── + ───────────\n_________│     │  _________│ ⎟                   2                            \n 4⋅x + 1 │     │╲╱ 4⋅x + 1 │ ⎠                                                \n                                                                              \n                                                                              \n                                                                              \n                                                                              \n              0                                                               \n\n                   for y < -1            \n                                         \n                                         \n                                         \n                                         \n       1                                 \n ───────────── dx                        \n │  _________│                           \n │╲╱ 4⋅x + 1 │                 for y ≥ -1\n                                         \n                                         \n─────────────────  otherwise             \n  2                                      \n                                         \n                                         \n                                         \n                                         \n                                         \n                               otherwise ",
      "text/latex": "$\\displaystyle \\begin{cases} \\begin{cases} 0 & \\text{for}\\: y < -1 \\\\\\frac{\\int\\limits^{\\min\\left(0, y\\right)} \\frac{\\sqrt{4 x + 1}}{\\left|{\\sqrt{4 x + 1}}\\right|}\\, dx}{2} - \\frac{\\int\\limits^{\\min\\left(2, y\\right)} \\frac{\\sqrt{4 x + 1}}{\\left|{\\sqrt{4 x + 1}}\\right|}\\, dx}{2} + \\int\\limits_{\\min\\left(- \\frac{1}{4}, y\\right)}^{\\min\\left(0, y\\right)} \\left(\\frac{\\frac{1}{2} - \\frac{\\sqrt{4 x + 1}}{2}}{\\left|{\\sqrt{4 x + 1}}\\right|} + \\frac{\\frac{\\sqrt{4 x + 1}}{2} + \\frac{1}{2}}{\\left|{\\sqrt{4 x + 1}}\\right|}\\right)\\, dx - \\frac{3 \\int\\limits^{\\min\\left(0, y\\right)} \\frac{1}{\\left|{\\sqrt{4 x + 1}}\\right|}\\, dx}{2} + \\frac{3 \\int\\limits^{\\min\\left(2, y\\right)} \\frac{1}{\\left|{\\sqrt{4 x + 1}}\\right|}\\, dx}{2} & \\text{otherwise} \\end{cases} & \\text{for}\\: y \\geq -1 \\\\0 & \\text{otherwise} \\end{cases}$"
     },
     "metadata": {},
     "execution_count": 21
    }
   ],
   "source": [
    "F_Y = stat.cdf(Y)(y)\n",
    "print(F_Y)\n",
    "F_Y"
   ]
  },
  {
   "cell_type": "markdown",
   "metadata": {},
   "source": [
    "I guess the answers are technically correct and not close to a preferable form, tbh."
   ]
  }
 ],
 "metadata": {
  "language_info": {
   "codemirror_mode": {
    "name": "ipython",
    "version": 3
   },
   "file_extension": ".py",
   "mimetype": "text/x-python",
   "name": "python",
   "nbconvert_exporter": "python",
   "pygments_lexer": "ipython3",
   "version": "3.7.7-final"
  },
  "orig_nbformat": 2,
  "kernelspec": {
   "name": "python37764bitpymathcondaaa2f80fb299a4068994af87f0f25b635",
   "display_name": "Python 3.7.7 64-bit ('py_math': conda)"
  }
 },
 "nbformat": 4,
 "nbformat_minor": 2
}